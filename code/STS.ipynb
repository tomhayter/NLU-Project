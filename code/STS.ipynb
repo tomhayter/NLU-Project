{
  "cells": [
    {
      "cell_type": "code",
      "execution_count": null,
      "metadata": {
        "id": "kZPdAJRz-XTo"
      },
      "outputs": [],
      "source": [
        "!pip install -U sentence-transformers"
      ]
    },
    {
      "cell_type": "code",
      "execution_count": null,
      "metadata": {
        "id": "G_Ue5mz-_SN2"
      },
      "outputs": [],
      "source": [
        "from sentence_transformers import SentenceTransformer\n",
        "from numpy import dot\n",
        "from numpy.linalg import norm\n",
        "from google.colab import drive\n",
        "import pandas as pd\n",
        "import numpy as np\n",
        "import ast\n",
        "import pickle\n",
        "from random import shuffle, choice\n",
        "import tqdm"
      ]
    },
    {
      "cell_type": "code",
      "execution_count": null,
      "metadata": {
        "id": "64bBn-Fp_MHC"
      },
      "outputs": [],
      "source": [
        "sentences = ['This is very similar', 'SNasodaskd', 'These are quite similar', 'Different sauce new gravy']"
      ]
    },
    {
      "cell_type": "code",
      "execution_count": null,
      "metadata": {
        "id": "Np5qbgsP_MDS"
      },
      "outputs": [],
      "source": [
        "model = SentenceTransformer('sentence-transformers/all-MiniLM-L6-v2')"
      ]
    },
    {
      "cell_type": "code",
      "execution_count": null,
      "metadata": {
        "id": "1wkifhGf_L3U"
      },
      "outputs": [],
      "source": [
        "test_embeddings = model.encode(sentences)\n",
        "print(test_embeddings)"
      ]
    },
    {
      "cell_type": "code",
      "execution_count": null,
      "metadata": {
        "id": "wZ5DUbW7_LuA"
      },
      "outputs": [],
      "source": [
        "def cosine_sim(embeddings):\n",
        "  inp = embeddings[0]\n",
        "  targets = embeddings[1:]\n",
        "  cos_sim = []\n",
        "  for target in targets:\n",
        "    score = dot(inp,target)/(norm(inp)*norm(target))\n",
        "    cos_sim.append(score)\n",
        "  return cos_sim\n"
      ]
    },
    {
      "cell_type": "code",
      "execution_count": null,
      "metadata": {
        "id": "xWXd-nXKCR6f"
      },
      "outputs": [],
      "source": [
        "def dot_prod(embeddings):\n",
        "  inp = embeddings[0]\n",
        "  targets = embeddings[1:]\n",
        "  dot_prod = []\n",
        "  for target in targets:\n",
        "    dot_prod.append(dot(inp,target))\n",
        "  return dot_prod"
      ]
    },
    {
      "cell_type": "code",
      "execution_count": null,
      "metadata": {
        "id": "oSEFhlK3pnnF"
      },
      "outputs": [],
      "source": [
        "def make_prediction(songs):\n",
        "  embeddings = model.encode(songs)\n",
        "  sims = cosine_sim(embeddings)\n",
        "  best_match = np.argmax(sims)\n",
        "  if sims[best_match] < 0.6:\n",
        "    return 3\n",
        "  return best_match\n"
      ]
    },
    {
      "cell_type": "code",
      "execution_count": null,
      "metadata": {
        "colab": {
          "base_uri": "https://localhost:8080/"
        },
        "id": "qQZa79T3BRIL",
        "outputId": "80ed8f89-571e-4075-e0aa-64c79015cf5c"
      },
      "outputs": [
        {
          "name": "stdout",
          "output_type": "stream",
          "text": [
            "[0.12564191, 0.8093578, 0.14082688]\n"
          ]
        }
      ],
      "source": [
        "print(cosine_sim(test_embeddings))"
      ]
    },
    {
      "cell_type": "code",
      "execution_count": null,
      "metadata": {
        "colab": {
          "base_uri": "https://localhost:8080/"
        },
        "id": "nQxJYQRmCrlE",
        "outputId": "dc4a9987-c61d-47ad-faef-41eaaa7a6d5b"
      },
      "outputs": [
        {
          "name": "stdout",
          "output_type": "stream",
          "text": [
            "[0.12564191, 0.80935776, 0.14082688]\n"
          ]
        }
      ],
      "source": [
        "print(dot_prod(test_embeddings))"
      ]
    },
    {
      "cell_type": "code",
      "execution_count": null,
      "metadata": {
        "colab": {
          "base_uri": "https://localhost:8080/"
        },
        "id": "Z9cRu5uIrWWe",
        "outputId": "7123b3ef-7e3d-431a-faeb-d91f4da55cef"
      },
      "outputs": [
        {
          "name": "stdout",
          "output_type": "stream",
          "text": [
            "1\n"
          ]
        }
      ],
      "source": [
        "print(make_prediction(sentences))"
      ]
    },
    {
      "cell_type": "code",
      "execution_count": null,
      "metadata": {
        "colab": {
          "base_uri": "https://localhost:8080/"
        },
        "id": "VTxWActreE2U",
        "outputId": "ef94bd5b-031a-4349-851e-cb033f45523b"
      },
      "outputs": [
        {
          "name": "stdout",
          "output_type": "stream",
          "text": [
            "Drive already mounted at /content/drive; to attempt to forcibly remount, call drive.mount(\"/content/drive\", force_remount=True).\n"
          ]
        }
      ],
      "source": [
        "drive.mount('/content/drive')"
      ]
    },
    {
      "cell_type": "code",
      "execution_count": null,
      "metadata": {
        "colab": {
          "base_uri": "https://localhost:8080/",
          "height": 206
        },
        "id": "JWFBMu9sfqFJ",
        "outputId": "78bfd8df-7a5d-4618-f993-ed8611c341c9"
      },
      "outputs": [
        {
          "data": {
            "text/html": [
              "\n",
              "  <div id=\"df-487b0457-09c5-4d0b-9bd9-848e6e07e010\">\n",
              "    <div class=\"colab-df-container\">\n",
              "      <div>\n",
              "<style scoped>\n",
              "    .dataframe tbody tr th:only-of-type {\n",
              "        vertical-align: middle;\n",
              "    }\n",
              "\n",
              "    .dataframe tbody tr th {\n",
              "        vertical-align: top;\n",
              "    }\n",
              "\n",
              "    .dataframe thead th {\n",
              "        text-align: right;\n",
              "    }\n",
              "</style>\n",
              "<table border=\"1\" class=\"dataframe\">\n",
              "  <thead>\n",
              "    <tr style=\"text-align: right;\">\n",
              "      <th></th>\n",
              "      <th>artist</th>\n",
              "      <th>song</th>\n",
              "      <th>link</th>\n",
              "      <th>text</th>\n",
              "    </tr>\n",
              "  </thead>\n",
              "  <tbody>\n",
              "    <tr>\n",
              "      <th>0</th>\n",
              "      <td>ABBA</td>\n",
              "      <td>Ahe's My Kind Of Girl</td>\n",
              "      <td>/a/abba/ahes+my+kind+of+girl_20598417.html</td>\n",
              "      <td>Look at her face, it's a wonderful face  \\r\\nA...</td>\n",
              "    </tr>\n",
              "    <tr>\n",
              "      <th>1</th>\n",
              "      <td>ABBA</td>\n",
              "      <td>Andante, Andante</td>\n",
              "      <td>/a/abba/andante+andante_20002708.html</td>\n",
              "      <td>Take it easy with me, please  \\r\\nTouch me gen...</td>\n",
              "    </tr>\n",
              "    <tr>\n",
              "      <th>2</th>\n",
              "      <td>ABBA</td>\n",
              "      <td>As Good As New</td>\n",
              "      <td>/a/abba/as+good+as+new_20003033.html</td>\n",
              "      <td>I'll never know why I had to go  \\r\\nWhy I had...</td>\n",
              "    </tr>\n",
              "    <tr>\n",
              "      <th>3</th>\n",
              "      <td>ABBA</td>\n",
              "      <td>Bang</td>\n",
              "      <td>/a/abba/bang_20598415.html</td>\n",
              "      <td>Making somebody happy is a question of give an...</td>\n",
              "    </tr>\n",
              "    <tr>\n",
              "      <th>4</th>\n",
              "      <td>ABBA</td>\n",
              "      <td>Bang-A-Boomerang</td>\n",
              "      <td>/a/abba/bang+a+boomerang_20002668.html</td>\n",
              "      <td>Making somebody happy is a question of give an...</td>\n",
              "    </tr>\n",
              "  </tbody>\n",
              "</table>\n",
              "</div>\n",
              "      <button class=\"colab-df-convert\" onclick=\"convertToInteractive('df-487b0457-09c5-4d0b-9bd9-848e6e07e010')\"\n",
              "              title=\"Convert this dataframe to an interactive table.\"\n",
              "              style=\"display:none;\">\n",
              "        \n",
              "  <svg xmlns=\"http://www.w3.org/2000/svg\" height=\"24px\"viewBox=\"0 0 24 24\"\n",
              "       width=\"24px\">\n",
              "    <path d=\"M0 0h24v24H0V0z\" fill=\"none\"/>\n",
              "    <path d=\"M18.56 5.44l.94 2.06.94-2.06 2.06-.94-2.06-.94-.94-2.06-.94 2.06-2.06.94zm-11 1L8.5 8.5l.94-2.06 2.06-.94-2.06-.94L8.5 2.5l-.94 2.06-2.06.94zm10 10l.94 2.06.94-2.06 2.06-.94-2.06-.94-.94-2.06-.94 2.06-2.06.94z\"/><path d=\"M17.41 7.96l-1.37-1.37c-.4-.4-.92-.59-1.43-.59-.52 0-1.04.2-1.43.59L10.3 9.45l-7.72 7.72c-.78.78-.78 2.05 0 2.83L4 21.41c.39.39.9.59 1.41.59.51 0 1.02-.2 1.41-.59l7.78-7.78 2.81-2.81c.8-.78.8-2.07 0-2.86zM5.41 20L4 18.59l7.72-7.72 1.47 1.35L5.41 20z\"/>\n",
              "  </svg>\n",
              "      </button>\n",
              "      \n",
              "  <style>\n",
              "    .colab-df-container {\n",
              "      display:flex;\n",
              "      flex-wrap:wrap;\n",
              "      gap: 12px;\n",
              "    }\n",
              "\n",
              "    .colab-df-convert {\n",
              "      background-color: #E8F0FE;\n",
              "      border: none;\n",
              "      border-radius: 50%;\n",
              "      cursor: pointer;\n",
              "      display: none;\n",
              "      fill: #1967D2;\n",
              "      height: 32px;\n",
              "      padding: 0 0 0 0;\n",
              "      width: 32px;\n",
              "    }\n",
              "\n",
              "    .colab-df-convert:hover {\n",
              "      background-color: #E2EBFA;\n",
              "      box-shadow: 0px 1px 2px rgba(60, 64, 67, 0.3), 0px 1px 3px 1px rgba(60, 64, 67, 0.15);\n",
              "      fill: #174EA6;\n",
              "    }\n",
              "\n",
              "    [theme=dark] .colab-df-convert {\n",
              "      background-color: #3B4455;\n",
              "      fill: #D2E3FC;\n",
              "    }\n",
              "\n",
              "    [theme=dark] .colab-df-convert:hover {\n",
              "      background-color: #434B5C;\n",
              "      box-shadow: 0px 1px 3px 1px rgba(0, 0, 0, 0.15);\n",
              "      filter: drop-shadow(0px 1px 2px rgba(0, 0, 0, 0.3));\n",
              "      fill: #FFFFFF;\n",
              "    }\n",
              "  </style>\n",
              "\n",
              "      <script>\n",
              "        const buttonEl =\n",
              "          document.querySelector('#df-487b0457-09c5-4d0b-9bd9-848e6e07e010 button.colab-df-convert');\n",
              "        buttonEl.style.display =\n",
              "          google.colab.kernel.accessAllowed ? 'block' : 'none';\n",
              "\n",
              "        async function convertToInteractive(key) {\n",
              "          const element = document.querySelector('#df-487b0457-09c5-4d0b-9bd9-848e6e07e010');\n",
              "          const dataTable =\n",
              "            await google.colab.kernel.invokeFunction('convertToInteractive',\n",
              "                                                     [key], {});\n",
              "          if (!dataTable) return;\n",
              "\n",
              "          const docLinkHtml = 'Like what you see? Visit the ' +\n",
              "            '<a target=\"_blank\" href=https://colab.research.google.com/notebooks/data_table.ipynb>data table notebook</a>'\n",
              "            + ' to learn more about interactive tables.';\n",
              "          element.innerHTML = '';\n",
              "          dataTable['output_type'] = 'display_data';\n",
              "          await google.colab.output.renderOutput(dataTable, element);\n",
              "          const docLink = document.createElement('div');\n",
              "          docLink.innerHTML = docLinkHtml;\n",
              "          element.appendChild(docLink);\n",
              "        }\n",
              "      </script>\n",
              "    </div>\n",
              "  </div>\n",
              "  "
            ],
            "text/plain": [
              "  artist                   song                                        link  \\\n",
              "0   ABBA  Ahe's My Kind Of Girl  /a/abba/ahes+my+kind+of+girl_20598417.html   \n",
              "1   ABBA       Andante, Andante       /a/abba/andante+andante_20002708.html   \n",
              "2   ABBA         As Good As New        /a/abba/as+good+as+new_20003033.html   \n",
              "3   ABBA                   Bang                  /a/abba/bang_20598415.html   \n",
              "4   ABBA       Bang-A-Boomerang      /a/abba/bang+a+boomerang_20002668.html   \n",
              "\n",
              "                                                text  \n",
              "0  Look at her face, it's a wonderful face  \\r\\nA...  \n",
              "1  Take it easy with me, please  \\r\\nTouch me gen...  \n",
              "2  I'll never know why I had to go  \\r\\nWhy I had...  \n",
              "3  Making somebody happy is a question of give an...  \n",
              "4  Making somebody happy is a question of give an...  "
            ]
          },
          "execution_count": 14,
          "metadata": {},
          "output_type": "execute_result"
        }
      ],
      "source": [
        "data = pd.read_csv(\"drive/MyDrive/NLU/spotify_millsongdata.csv\")\n",
        "data.head()"
      ]
    },
    {
      "cell_type": "code",
      "execution_count": null,
      "metadata": {
        "id": "DQJNHSmbxdWt"
      },
      "outputs": [],
      "source": [
        "lyrics = data.text\n",
        "lyrics = [str(song).replace(\"\\r\", \"\").replace(\"\\n\", \"\") for song in lyrics]"
      ]
    },
    {
      "cell_type": "code",
      "execution_count": null,
      "metadata": {
        "id": "NuhmYP-Bf9eD"
      },
      "outputs": [],
      "source": [
        "def generate_emotion_dict():\n",
        "  emotion_dict = {}\n",
        "  with open('drive/MyDrive/NLU/song_labels.txt') as file:\n",
        "    for k, line in enumerate(file):\n",
        "      emotions = ast.literal_eval(line.rstrip())\n",
        "      for emotion in emotions:\n",
        "        if emotion not in emotion_dict:\n",
        "          emotion_dict[emotion] = [k]\n",
        "        else:\n",
        "          emotion_dict[emotion].append(k)\n",
        "  return emotion_dict\n",
        "\n",
        "def save_dict(filename, dictionary):\n",
        "  with open(filename, 'wb') as f:\n",
        "    pickle.dump(dictionary, f)"
      ]
    },
    {
      "cell_type": "code",
      "execution_count": null,
      "metadata": {
        "id": "rAu64ycoto56"
      },
      "outputs": [],
      "source": [
        "def generate_testing_samples(indices):\n",
        "  samples = []\n",
        "  all_keys = list(indices.keys())\n",
        "  for key in indices:\n",
        "    current_indices = indices[key]\n",
        "    temp_keys = all_keys.copy()\n",
        "    temp_keys.remove(key)\n",
        "    for i in range(100):\n",
        "      target_emotion = choice(temp_keys)\n",
        "      x = choice(current_indices)\n",
        "      y1 = choice(current_indices)\n",
        "      y2 = choice(indices[target_emotion])\n",
        "      targets = [y1, y2]\n",
        "      pos = choice([0, 1])\n",
        "      if pos == 1:\n",
        "        targets = [y2, y1]\n",
        "      targets.insert(0, x)\n",
        "      samples.append([targets, pos, [key, target_emotion]])\n",
        "  shuffle(samples)\n",
        "  return samples\n",
        "      \n"
      ]
    },
    {
      "cell_type": "code",
      "execution_count": null,
      "metadata": {
        "id": "jCqsBwN9xCO8"
      },
      "outputs": [],
      "source": [
        "def run_performance_test(samples):\n",
        "  total = 0\n",
        "  correct = 0\n",
        "  wrong = {'joy': [], 'love': [], 'sadness': [], 'anger': [], 'fear': [], 'surprise': []}\n",
        "  for sample in tqdm.tqdm(samples):\n",
        "    targets = sample[0]\n",
        "    pos = sample[1]\n",
        "    input_class = sample[2][0]\n",
        "    target_class = sample[2][1]\n",
        "    song_lyrics = []\n",
        "    for target in targets:\n",
        "      song_lyrics.append(lyrics[target])\n",
        "    prediction = make_prediction(song_lyrics)\n",
        "    # print(f\"{prediction}:{pos}\")\n",
        "    if prediction == pos:\n",
        "      correct += 1\n",
        "      total += 1\n",
        "\n",
        "    elif prediction == 3:\n",
        "      continue\n",
        "    else:\n",
        "      total += 1\n",
        "      wrong[input_class].append(target_class)\n",
        "  accuracy = round(correct / total, 2)\n",
        "  print(f\"\\nOverall Accuracy: {accuracy}\")\n",
        "  return accuracy, wrong"
      ]
    },
    {
      "cell_type": "code",
      "execution_count": null,
      "metadata": {
        "id": "lRVSCWoyf9bb"
      },
      "outputs": [],
      "source": [
        "emotion_indices = generate_emotion_dict()"
      ]
    },
    {
      "cell_type": "code",
      "execution_count": null,
      "metadata": {
        "id": "-nj2RHJtf9VO"
      },
      "outputs": [],
      "source": [
        "# save_dict('drive/MyDrive/NLU/emotion_dict.pkl', emotion_indices)"
      ]
    },
    {
      "cell_type": "code",
      "execution_count": null,
      "metadata": {
        "id": "2Xg1iQmHf9NG"
      },
      "outputs": [],
      "source": [
        "testing_samples = generate_testing_samples(emotion_indices)"
      ]
    },
    {
      "cell_type": "code",
      "execution_count": null,
      "metadata": {
        "colab": {
          "base_uri": "https://localhost:8080/"
        },
        "id": "0y2RSmCWwHJp",
        "outputId": "951a4f1e-2767-4e90-a1da-f0a40f503087"
      },
      "outputs": [
        {
          "name": "stderr",
          "output_type": "stream",
          "text": [
            "100%|██████████| 1200/1200 [00:15<00:00, 75.46it/s]"
          ]
        },
        {
          "name": "stdout",
          "output_type": "stream",
          "text": [
            "\n",
            "Overall Accuracy: 0.92\n"
          ]
        },
        {
          "name": "stderr",
          "output_type": "stream",
          "text": [
            "\n"
          ]
        }
      ],
      "source": [
        "accuracy, wrong = run_performance_test(testing_samples)"
      ]
    },
    {
      "cell_type": "code",
      "execution_count": null,
      "metadata": {
        "colab": {
          "base_uri": "https://localhost:8080/"
        },
        "id": "2UaxK3yQ1KG5",
        "outputId": "18af1c6d-7234-49b1-d0a1-d2c1aca81bbb"
      },
      "outputs": [
        {
          "name": "stderr",
          "output_type": "stream",
          "text": [
            "100%|██████████| 600/600 [00:07<00:00, 77.88it/s]\n"
          ]
        },
        {
          "name": "stdout",
          "output_type": "stream",
          "text": [
            "\n",
            "Overall Accuracy: 0.57\n"
          ]
        },
        {
          "name": "stderr",
          "output_type": "stream",
          "text": [
            "100%|██████████| 600/600 [00:08<00:00, 71.32it/s]\n"
          ]
        },
        {
          "name": "stdout",
          "output_type": "stream",
          "text": [
            "\n",
            "Overall Accuracy: 0.6\n"
          ]
        },
        {
          "name": "stderr",
          "output_type": "stream",
          "text": [
            "100%|██████████| 600/600 [00:07<00:00, 79.91it/s]"
          ]
        },
        {
          "name": "stdout",
          "output_type": "stream",
          "text": [
            "\n",
            "Overall Accuracy: 0.78\n"
          ]
        },
        {
          "name": "stderr",
          "output_type": "stream",
          "text": [
            "\n"
          ]
        }
      ],
      "source": [
        "accuracies = []\n",
        "for i in range(3):\n",
        "  cur_samples = generate_testing_samples(emotion_indices)\n",
        "  accuracy, wrong = run_performance_test(cur_samples)\n",
        "  accuracies.append(accuracy)"
      ]
    },
    {
      "cell_type": "code",
      "execution_count": null,
      "metadata": {
        "id": "vd7cWfjYtT90"
      },
      "outputs": [],
      "source": [
        "print(accuracies)"
      ]
    },
    {
      "cell_type": "code",
      "execution_count": null,
      "metadata": {
        "id": "tYuYXDjAtWqQ"
      },
      "outputs": [],
      "source": []
    }
  ],
  "metadata": {
    "accelerator": "GPU",
    "colab": {
      "provenance": []
    },
    "gpuClass": "standard",
    "kernelspec": {
      "display_name": "Python 3",
      "name": "python3"
    },
    "language_info": {
      "name": "python"
    }
  },
  "nbformat": 4,
  "nbformat_minor": 0
}
