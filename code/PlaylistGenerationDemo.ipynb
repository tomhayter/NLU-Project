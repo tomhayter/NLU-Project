{
  "nbformat": 4,
  "nbformat_minor": 0,
  "metadata": {
    "colab": {
      "provenance": []
    },
    "kernelspec": {
      "name": "python3",
      "display_name": "Python 3"
    },
    "language_info": {
      "name": "python"
    },
    "accelerator": "GPU",
    "gpuClass": "standard",
    "widgets": {
      "application/vnd.jupyter.widget-state+json": {
        "e20df26a449241448d3e3220e9d252c7": {
          "model_module": "@jupyter-widgets/controls",
          "model_name": "HBoxModel",
          "model_module_version": "1.5.0",
          "state": {
            "_dom_classes": [],
            "_model_module": "@jupyter-widgets/controls",
            "_model_module_version": "1.5.0",
            "_model_name": "HBoxModel",
            "_view_count": null,
            "_view_module": "@jupyter-widgets/controls",
            "_view_module_version": "1.5.0",
            "_view_name": "HBoxView",
            "box_style": "",
            "children": [
              "IPY_MODEL_0e5b4ae641a94c708f59a48f9528efaf",
              "IPY_MODEL_e5fff7e9157e45a7806afa95cf4a796b",
              "IPY_MODEL_046131cc653c401b940465f884814aec"
            ],
            "layout": "IPY_MODEL_1f39edb1e6a444a3846a07f9b91909e1"
          }
        },
        "0e5b4ae641a94c708f59a48f9528efaf": {
          "model_module": "@jupyter-widgets/controls",
          "model_name": "HTMLModel",
          "model_module_version": "1.5.0",
          "state": {
            "_dom_classes": [],
            "_model_module": "@jupyter-widgets/controls",
            "_model_module_version": "1.5.0",
            "_model_name": "HTMLModel",
            "_view_count": null,
            "_view_module": "@jupyter-widgets/controls",
            "_view_module_version": "1.5.0",
            "_view_name": "HTMLView",
            "description": "",
            "description_tooltip": null,
            "layout": "IPY_MODEL_9a2f837365e543eeac7ef0722cb73e46",
            "placeholder": "​",
            "style": "IPY_MODEL_95a6d8eb838c412488af7fec7509cc4a",
            "value": "Downloading (…)solve/main/vocab.txt: 100%"
          }
        },
        "e5fff7e9157e45a7806afa95cf4a796b": {
          "model_module": "@jupyter-widgets/controls",
          "model_name": "FloatProgressModel",
          "model_module_version": "1.5.0",
          "state": {
            "_dom_classes": [],
            "_model_module": "@jupyter-widgets/controls",
            "_model_module_version": "1.5.0",
            "_model_name": "FloatProgressModel",
            "_view_count": null,
            "_view_module": "@jupyter-widgets/controls",
            "_view_module_version": "1.5.0",
            "_view_name": "ProgressView",
            "bar_style": "success",
            "description": "",
            "description_tooltip": null,
            "layout": "IPY_MODEL_0e2b02d99b1d4bf4a30a3fcaf6e2cb9c",
            "max": 231508,
            "min": 0,
            "orientation": "horizontal",
            "style": "IPY_MODEL_793a0543b2264f9292ff60be52e4dd5b",
            "value": 231508
          }
        },
        "046131cc653c401b940465f884814aec": {
          "model_module": "@jupyter-widgets/controls",
          "model_name": "HTMLModel",
          "model_module_version": "1.5.0",
          "state": {
            "_dom_classes": [],
            "_model_module": "@jupyter-widgets/controls",
            "_model_module_version": "1.5.0",
            "_model_name": "HTMLModel",
            "_view_count": null,
            "_view_module": "@jupyter-widgets/controls",
            "_view_module_version": "1.5.0",
            "_view_name": "HTMLView",
            "description": "",
            "description_tooltip": null,
            "layout": "IPY_MODEL_d7e1c2c319cd45d6b0ac5294e38692cf",
            "placeholder": "​",
            "style": "IPY_MODEL_cdf423d67c8c4752a5f2652ce777ff1d",
            "value": " 232k/232k [00:00&lt;00:00, 468kB/s]"
          }
        },
        "1f39edb1e6a444a3846a07f9b91909e1": {
          "model_module": "@jupyter-widgets/base",
          "model_name": "LayoutModel",
          "model_module_version": "1.2.0",
          "state": {
            "_model_module": "@jupyter-widgets/base",
            "_model_module_version": "1.2.0",
            "_model_name": "LayoutModel",
            "_view_count": null,
            "_view_module": "@jupyter-widgets/base",
            "_view_module_version": "1.2.0",
            "_view_name": "LayoutView",
            "align_content": null,
            "align_items": null,
            "align_self": null,
            "border": null,
            "bottom": null,
            "display": null,
            "flex": null,
            "flex_flow": null,
            "grid_area": null,
            "grid_auto_columns": null,
            "grid_auto_flow": null,
            "grid_auto_rows": null,
            "grid_column": null,
            "grid_gap": null,
            "grid_row": null,
            "grid_template_areas": null,
            "grid_template_columns": null,
            "grid_template_rows": null,
            "height": null,
            "justify_content": null,
            "justify_items": null,
            "left": null,
            "margin": null,
            "max_height": null,
            "max_width": null,
            "min_height": null,
            "min_width": null,
            "object_fit": null,
            "object_position": null,
            "order": null,
            "overflow": null,
            "overflow_x": null,
            "overflow_y": null,
            "padding": null,
            "right": null,
            "top": null,
            "visibility": null,
            "width": null
          }
        },
        "9a2f837365e543eeac7ef0722cb73e46": {
          "model_module": "@jupyter-widgets/base",
          "model_name": "LayoutModel",
          "model_module_version": "1.2.0",
          "state": {
            "_model_module": "@jupyter-widgets/base",
            "_model_module_version": "1.2.0",
            "_model_name": "LayoutModel",
            "_view_count": null,
            "_view_module": "@jupyter-widgets/base",
            "_view_module_version": "1.2.0",
            "_view_name": "LayoutView",
            "align_content": null,
            "align_items": null,
            "align_self": null,
            "border": null,
            "bottom": null,
            "display": null,
            "flex": null,
            "flex_flow": null,
            "grid_area": null,
            "grid_auto_columns": null,
            "grid_auto_flow": null,
            "grid_auto_rows": null,
            "grid_column": null,
            "grid_gap": null,
            "grid_row": null,
            "grid_template_areas": null,
            "grid_template_columns": null,
            "grid_template_rows": null,
            "height": null,
            "justify_content": null,
            "justify_items": null,
            "left": null,
            "margin": null,
            "max_height": null,
            "max_width": null,
            "min_height": null,
            "min_width": null,
            "object_fit": null,
            "object_position": null,
            "order": null,
            "overflow": null,
            "overflow_x": null,
            "overflow_y": null,
            "padding": null,
            "right": null,
            "top": null,
            "visibility": null,
            "width": null
          }
        },
        "95a6d8eb838c412488af7fec7509cc4a": {
          "model_module": "@jupyter-widgets/controls",
          "model_name": "DescriptionStyleModel",
          "model_module_version": "1.5.0",
          "state": {
            "_model_module": "@jupyter-widgets/controls",
            "_model_module_version": "1.5.0",
            "_model_name": "DescriptionStyleModel",
            "_view_count": null,
            "_view_module": "@jupyter-widgets/base",
            "_view_module_version": "1.2.0",
            "_view_name": "StyleView",
            "description_width": ""
          }
        },
        "0e2b02d99b1d4bf4a30a3fcaf6e2cb9c": {
          "model_module": "@jupyter-widgets/base",
          "model_name": "LayoutModel",
          "model_module_version": "1.2.0",
          "state": {
            "_model_module": "@jupyter-widgets/base",
            "_model_module_version": "1.2.0",
            "_model_name": "LayoutModel",
            "_view_count": null,
            "_view_module": "@jupyter-widgets/base",
            "_view_module_version": "1.2.0",
            "_view_name": "LayoutView",
            "align_content": null,
            "align_items": null,
            "align_self": null,
            "border": null,
            "bottom": null,
            "display": null,
            "flex": null,
            "flex_flow": null,
            "grid_area": null,
            "grid_auto_columns": null,
            "grid_auto_flow": null,
            "grid_auto_rows": null,
            "grid_column": null,
            "grid_gap": null,
            "grid_row": null,
            "grid_template_areas": null,
            "grid_template_columns": null,
            "grid_template_rows": null,
            "height": null,
            "justify_content": null,
            "justify_items": null,
            "left": null,
            "margin": null,
            "max_height": null,
            "max_width": null,
            "min_height": null,
            "min_width": null,
            "object_fit": null,
            "object_position": null,
            "order": null,
            "overflow": null,
            "overflow_x": null,
            "overflow_y": null,
            "padding": null,
            "right": null,
            "top": null,
            "visibility": null,
            "width": null
          }
        },
        "793a0543b2264f9292ff60be52e4dd5b": {
          "model_module": "@jupyter-widgets/controls",
          "model_name": "ProgressStyleModel",
          "model_module_version": "1.5.0",
          "state": {
            "_model_module": "@jupyter-widgets/controls",
            "_model_module_version": "1.5.0",
            "_model_name": "ProgressStyleModel",
            "_view_count": null,
            "_view_module": "@jupyter-widgets/base",
            "_view_module_version": "1.2.0",
            "_view_name": "StyleView",
            "bar_color": null,
            "description_width": ""
          }
        },
        "d7e1c2c319cd45d6b0ac5294e38692cf": {
          "model_module": "@jupyter-widgets/base",
          "model_name": "LayoutModel",
          "model_module_version": "1.2.0",
          "state": {
            "_model_module": "@jupyter-widgets/base",
            "_model_module_version": "1.2.0",
            "_model_name": "LayoutModel",
            "_view_count": null,
            "_view_module": "@jupyter-widgets/base",
            "_view_module_version": "1.2.0",
            "_view_name": "LayoutView",
            "align_content": null,
            "align_items": null,
            "align_self": null,
            "border": null,
            "bottom": null,
            "display": null,
            "flex": null,
            "flex_flow": null,
            "grid_area": null,
            "grid_auto_columns": null,
            "grid_auto_flow": null,
            "grid_auto_rows": null,
            "grid_column": null,
            "grid_gap": null,
            "grid_row": null,
            "grid_template_areas": null,
            "grid_template_columns": null,
            "grid_template_rows": null,
            "height": null,
            "justify_content": null,
            "justify_items": null,
            "left": null,
            "margin": null,
            "max_height": null,
            "max_width": null,
            "min_height": null,
            "min_width": null,
            "object_fit": null,
            "object_position": null,
            "order": null,
            "overflow": null,
            "overflow_x": null,
            "overflow_y": null,
            "padding": null,
            "right": null,
            "top": null,
            "visibility": null,
            "width": null
          }
        },
        "cdf423d67c8c4752a5f2652ce777ff1d": {
          "model_module": "@jupyter-widgets/controls",
          "model_name": "DescriptionStyleModel",
          "model_module_version": "1.5.0",
          "state": {
            "_model_module": "@jupyter-widgets/controls",
            "_model_module_version": "1.5.0",
            "_model_name": "DescriptionStyleModel",
            "_view_count": null,
            "_view_module": "@jupyter-widgets/base",
            "_view_module_version": "1.2.0",
            "_view_name": "StyleView",
            "description_width": ""
          }
        },
        "aa414923ee2a40a5b5812a501ea326b4": {
          "model_module": "@jupyter-widgets/controls",
          "model_name": "HBoxModel",
          "model_module_version": "1.5.0",
          "state": {
            "_dom_classes": [],
            "_model_module": "@jupyter-widgets/controls",
            "_model_module_version": "1.5.0",
            "_model_name": "HBoxModel",
            "_view_count": null,
            "_view_module": "@jupyter-widgets/controls",
            "_view_module_version": "1.5.0",
            "_view_name": "HBoxView",
            "box_style": "",
            "children": [
              "IPY_MODEL_0562f8d6df35457dae3e5333b08b49f2",
              "IPY_MODEL_92c2dd89c40146efb7b1cc53df913952",
              "IPY_MODEL_60d7f7ca47294924b4353903a6e61f64"
            ],
            "layout": "IPY_MODEL_d1dd08f27fc54325a52acf539f48f08c"
          }
        },
        "0562f8d6df35457dae3e5333b08b49f2": {
          "model_module": "@jupyter-widgets/controls",
          "model_name": "HTMLModel",
          "model_module_version": "1.5.0",
          "state": {
            "_dom_classes": [],
            "_model_module": "@jupyter-widgets/controls",
            "_model_module_version": "1.5.0",
            "_model_name": "HTMLModel",
            "_view_count": null,
            "_view_module": "@jupyter-widgets/controls",
            "_view_module_version": "1.5.0",
            "_view_name": "HTMLView",
            "description": "",
            "description_tooltip": null,
            "layout": "IPY_MODEL_cafaaca003054afa8f7f21c49ee38533",
            "placeholder": "​",
            "style": "IPY_MODEL_9da2f08d37b74d0e8d0fcf1422d56172",
            "value": "Downloading (…)okenizer_config.json: 100%"
          }
        },
        "92c2dd89c40146efb7b1cc53df913952": {
          "model_module": "@jupyter-widgets/controls",
          "model_name": "FloatProgressModel",
          "model_module_version": "1.5.0",
          "state": {
            "_dom_classes": [],
            "_model_module": "@jupyter-widgets/controls",
            "_model_module_version": "1.5.0",
            "_model_name": "FloatProgressModel",
            "_view_count": null,
            "_view_module": "@jupyter-widgets/controls",
            "_view_module_version": "1.5.0",
            "_view_name": "ProgressView",
            "bar_style": "success",
            "description": "",
            "description_tooltip": null,
            "layout": "IPY_MODEL_01d9d73f4e8b407b94ccd075b443eaee",
            "max": 28,
            "min": 0,
            "orientation": "horizontal",
            "style": "IPY_MODEL_3b4ebd38f69945a5b206b0ca1b497207",
            "value": 28
          }
        },
        "60d7f7ca47294924b4353903a6e61f64": {
          "model_module": "@jupyter-widgets/controls",
          "model_name": "HTMLModel",
          "model_module_version": "1.5.0",
          "state": {
            "_dom_classes": [],
            "_model_module": "@jupyter-widgets/controls",
            "_model_module_version": "1.5.0",
            "_model_name": "HTMLModel",
            "_view_count": null,
            "_view_module": "@jupyter-widgets/controls",
            "_view_module_version": "1.5.0",
            "_view_name": "HTMLView",
            "description": "",
            "description_tooltip": null,
            "layout": "IPY_MODEL_bc1eb379ffb04427b409f275fe2eac14",
            "placeholder": "​",
            "style": "IPY_MODEL_48017c80ffed4f1787346b0c947d8b74",
            "value": " 28.0/28.0 [00:00&lt;00:00, 1.79kB/s]"
          }
        },
        "d1dd08f27fc54325a52acf539f48f08c": {
          "model_module": "@jupyter-widgets/base",
          "model_name": "LayoutModel",
          "model_module_version": "1.2.0",
          "state": {
            "_model_module": "@jupyter-widgets/base",
            "_model_module_version": "1.2.0",
            "_model_name": "LayoutModel",
            "_view_count": null,
            "_view_module": "@jupyter-widgets/base",
            "_view_module_version": "1.2.0",
            "_view_name": "LayoutView",
            "align_content": null,
            "align_items": null,
            "align_self": null,
            "border": null,
            "bottom": null,
            "display": null,
            "flex": null,
            "flex_flow": null,
            "grid_area": null,
            "grid_auto_columns": null,
            "grid_auto_flow": null,
            "grid_auto_rows": null,
            "grid_column": null,
            "grid_gap": null,
            "grid_row": null,
            "grid_template_areas": null,
            "grid_template_columns": null,
            "grid_template_rows": null,
            "height": null,
            "justify_content": null,
            "justify_items": null,
            "left": null,
            "margin": null,
            "max_height": null,
            "max_width": null,
            "min_height": null,
            "min_width": null,
            "object_fit": null,
            "object_position": null,
            "order": null,
            "overflow": null,
            "overflow_x": null,
            "overflow_y": null,
            "padding": null,
            "right": null,
            "top": null,
            "visibility": null,
            "width": null
          }
        },
        "cafaaca003054afa8f7f21c49ee38533": {
          "model_module": "@jupyter-widgets/base",
          "model_name": "LayoutModel",
          "model_module_version": "1.2.0",
          "state": {
            "_model_module": "@jupyter-widgets/base",
            "_model_module_version": "1.2.0",
            "_model_name": "LayoutModel",
            "_view_count": null,
            "_view_module": "@jupyter-widgets/base",
            "_view_module_version": "1.2.0",
            "_view_name": "LayoutView",
            "align_content": null,
            "align_items": null,
            "align_self": null,
            "border": null,
            "bottom": null,
            "display": null,
            "flex": null,
            "flex_flow": null,
            "grid_area": null,
            "grid_auto_columns": null,
            "grid_auto_flow": null,
            "grid_auto_rows": null,
            "grid_column": null,
            "grid_gap": null,
            "grid_row": null,
            "grid_template_areas": null,
            "grid_template_columns": null,
            "grid_template_rows": null,
            "height": null,
            "justify_content": null,
            "justify_items": null,
            "left": null,
            "margin": null,
            "max_height": null,
            "max_width": null,
            "min_height": null,
            "min_width": null,
            "object_fit": null,
            "object_position": null,
            "order": null,
            "overflow": null,
            "overflow_x": null,
            "overflow_y": null,
            "padding": null,
            "right": null,
            "top": null,
            "visibility": null,
            "width": null
          }
        },
        "9da2f08d37b74d0e8d0fcf1422d56172": {
          "model_module": "@jupyter-widgets/controls",
          "model_name": "DescriptionStyleModel",
          "model_module_version": "1.5.0",
          "state": {
            "_model_module": "@jupyter-widgets/controls",
            "_model_module_version": "1.5.0",
            "_model_name": "DescriptionStyleModel",
            "_view_count": null,
            "_view_module": "@jupyter-widgets/base",
            "_view_module_version": "1.2.0",
            "_view_name": "StyleView",
            "description_width": ""
          }
        },
        "01d9d73f4e8b407b94ccd075b443eaee": {
          "model_module": "@jupyter-widgets/base",
          "model_name": "LayoutModel",
          "model_module_version": "1.2.0",
          "state": {
            "_model_module": "@jupyter-widgets/base",
            "_model_module_version": "1.2.0",
            "_model_name": "LayoutModel",
            "_view_count": null,
            "_view_module": "@jupyter-widgets/base",
            "_view_module_version": "1.2.0",
            "_view_name": "LayoutView",
            "align_content": null,
            "align_items": null,
            "align_self": null,
            "border": null,
            "bottom": null,
            "display": null,
            "flex": null,
            "flex_flow": null,
            "grid_area": null,
            "grid_auto_columns": null,
            "grid_auto_flow": null,
            "grid_auto_rows": null,
            "grid_column": null,
            "grid_gap": null,
            "grid_row": null,
            "grid_template_areas": null,
            "grid_template_columns": null,
            "grid_template_rows": null,
            "height": null,
            "justify_content": null,
            "justify_items": null,
            "left": null,
            "margin": null,
            "max_height": null,
            "max_width": null,
            "min_height": null,
            "min_width": null,
            "object_fit": null,
            "object_position": null,
            "order": null,
            "overflow": null,
            "overflow_x": null,
            "overflow_y": null,
            "padding": null,
            "right": null,
            "top": null,
            "visibility": null,
            "width": null
          }
        },
        "3b4ebd38f69945a5b206b0ca1b497207": {
          "model_module": "@jupyter-widgets/controls",
          "model_name": "ProgressStyleModel",
          "model_module_version": "1.5.0",
          "state": {
            "_model_module": "@jupyter-widgets/controls",
            "_model_module_version": "1.5.0",
            "_model_name": "ProgressStyleModel",
            "_view_count": null,
            "_view_module": "@jupyter-widgets/base",
            "_view_module_version": "1.2.0",
            "_view_name": "StyleView",
            "bar_color": null,
            "description_width": ""
          }
        },
        "bc1eb379ffb04427b409f275fe2eac14": {
          "model_module": "@jupyter-widgets/base",
          "model_name": "LayoutModel",
          "model_module_version": "1.2.0",
          "state": {
            "_model_module": "@jupyter-widgets/base",
            "_model_module_version": "1.2.0",
            "_model_name": "LayoutModel",
            "_view_count": null,
            "_view_module": "@jupyter-widgets/base",
            "_view_module_version": "1.2.0",
            "_view_name": "LayoutView",
            "align_content": null,
            "align_items": null,
            "align_self": null,
            "border": null,
            "bottom": null,
            "display": null,
            "flex": null,
            "flex_flow": null,
            "grid_area": null,
            "grid_auto_columns": null,
            "grid_auto_flow": null,
            "grid_auto_rows": null,
            "grid_column": null,
            "grid_gap": null,
            "grid_row": null,
            "grid_template_areas": null,
            "grid_template_columns": null,
            "grid_template_rows": null,
            "height": null,
            "justify_content": null,
            "justify_items": null,
            "left": null,
            "margin": null,
            "max_height": null,
            "max_width": null,
            "min_height": null,
            "min_width": null,
            "object_fit": null,
            "object_position": null,
            "order": null,
            "overflow": null,
            "overflow_x": null,
            "overflow_y": null,
            "padding": null,
            "right": null,
            "top": null,
            "visibility": null,
            "width": null
          }
        },
        "48017c80ffed4f1787346b0c947d8b74": {
          "model_module": "@jupyter-widgets/controls",
          "model_name": "DescriptionStyleModel",
          "model_module_version": "1.5.0",
          "state": {
            "_model_module": "@jupyter-widgets/controls",
            "_model_module_version": "1.5.0",
            "_model_name": "DescriptionStyleModel",
            "_view_count": null,
            "_view_module": "@jupyter-widgets/base",
            "_view_module_version": "1.2.0",
            "_view_name": "StyleView",
            "description_width": ""
          }
        },
        "f5b0115da3494d0fba1103c1b1a2b52c": {
          "model_module": "@jupyter-widgets/controls",
          "model_name": "HBoxModel",
          "model_module_version": "1.5.0",
          "state": {
            "_dom_classes": [],
            "_model_module": "@jupyter-widgets/controls",
            "_model_module_version": "1.5.0",
            "_model_name": "HBoxModel",
            "_view_count": null,
            "_view_module": "@jupyter-widgets/controls",
            "_view_module_version": "1.5.0",
            "_view_name": "HBoxView",
            "box_style": "",
            "children": [
              "IPY_MODEL_029e4c9618b044328068940baf22fe10",
              "IPY_MODEL_38f89da448bc40918fae1e55742953cd",
              "IPY_MODEL_f6044b175661492790c4201c8477b087"
            ],
            "layout": "IPY_MODEL_3c4d05459f3e499cb9d50483bbe35b1e"
          }
        },
        "029e4c9618b044328068940baf22fe10": {
          "model_module": "@jupyter-widgets/controls",
          "model_name": "HTMLModel",
          "model_module_version": "1.5.0",
          "state": {
            "_dom_classes": [],
            "_model_module": "@jupyter-widgets/controls",
            "_model_module_version": "1.5.0",
            "_model_name": "HTMLModel",
            "_view_count": null,
            "_view_module": "@jupyter-widgets/controls",
            "_view_module_version": "1.5.0",
            "_view_name": "HTMLView",
            "description": "",
            "description_tooltip": null,
            "layout": "IPY_MODEL_dc873b1ce6f7444da3ed04c2c15a8a54",
            "placeholder": "​",
            "style": "IPY_MODEL_c9b8cf8010b14022af4170caf5a7bf28",
            "value": "Downloading (…)lve/main/config.json: 100%"
          }
        },
        "38f89da448bc40918fae1e55742953cd": {
          "model_module": "@jupyter-widgets/controls",
          "model_name": "FloatProgressModel",
          "model_module_version": "1.5.0",
          "state": {
            "_dom_classes": [],
            "_model_module": "@jupyter-widgets/controls",
            "_model_module_version": "1.5.0",
            "_model_name": "FloatProgressModel",
            "_view_count": null,
            "_view_module": "@jupyter-widgets/controls",
            "_view_module_version": "1.5.0",
            "_view_name": "ProgressView",
            "bar_style": "success",
            "description": "",
            "description_tooltip": null,
            "layout": "IPY_MODEL_8661cbd92a8a48de8e325696d86e9f28",
            "max": 570,
            "min": 0,
            "orientation": "horizontal",
            "style": "IPY_MODEL_aeb7289ace544bc18c005e9331638016",
            "value": 570
          }
        },
        "f6044b175661492790c4201c8477b087": {
          "model_module": "@jupyter-widgets/controls",
          "model_name": "HTMLModel",
          "model_module_version": "1.5.0",
          "state": {
            "_dom_classes": [],
            "_model_module": "@jupyter-widgets/controls",
            "_model_module_version": "1.5.0",
            "_model_name": "HTMLModel",
            "_view_count": null,
            "_view_module": "@jupyter-widgets/controls",
            "_view_module_version": "1.5.0",
            "_view_name": "HTMLView",
            "description": "",
            "description_tooltip": null,
            "layout": "IPY_MODEL_78106d66fb784cd99124b27a76c070f0",
            "placeholder": "​",
            "style": "IPY_MODEL_e28af4b11f4b4866a61d01db13d7f03a",
            "value": " 570/570 [00:00&lt;00:00, 30.4kB/s]"
          }
        },
        "3c4d05459f3e499cb9d50483bbe35b1e": {
          "model_module": "@jupyter-widgets/base",
          "model_name": "LayoutModel",
          "model_module_version": "1.2.0",
          "state": {
            "_model_module": "@jupyter-widgets/base",
            "_model_module_version": "1.2.0",
            "_model_name": "LayoutModel",
            "_view_count": null,
            "_view_module": "@jupyter-widgets/base",
            "_view_module_version": "1.2.0",
            "_view_name": "LayoutView",
            "align_content": null,
            "align_items": null,
            "align_self": null,
            "border": null,
            "bottom": null,
            "display": null,
            "flex": null,
            "flex_flow": null,
            "grid_area": null,
            "grid_auto_columns": null,
            "grid_auto_flow": null,
            "grid_auto_rows": null,
            "grid_column": null,
            "grid_gap": null,
            "grid_row": null,
            "grid_template_areas": null,
            "grid_template_columns": null,
            "grid_template_rows": null,
            "height": null,
            "justify_content": null,
            "justify_items": null,
            "left": null,
            "margin": null,
            "max_height": null,
            "max_width": null,
            "min_height": null,
            "min_width": null,
            "object_fit": null,
            "object_position": null,
            "order": null,
            "overflow": null,
            "overflow_x": null,
            "overflow_y": null,
            "padding": null,
            "right": null,
            "top": null,
            "visibility": null,
            "width": null
          }
        },
        "dc873b1ce6f7444da3ed04c2c15a8a54": {
          "model_module": "@jupyter-widgets/base",
          "model_name": "LayoutModel",
          "model_module_version": "1.2.0",
          "state": {
            "_model_module": "@jupyter-widgets/base",
            "_model_module_version": "1.2.0",
            "_model_name": "LayoutModel",
            "_view_count": null,
            "_view_module": "@jupyter-widgets/base",
            "_view_module_version": "1.2.0",
            "_view_name": "LayoutView",
            "align_content": null,
            "align_items": null,
            "align_self": null,
            "border": null,
            "bottom": null,
            "display": null,
            "flex": null,
            "flex_flow": null,
            "grid_area": null,
            "grid_auto_columns": null,
            "grid_auto_flow": null,
            "grid_auto_rows": null,
            "grid_column": null,
            "grid_gap": null,
            "grid_row": null,
            "grid_template_areas": null,
            "grid_template_columns": null,
            "grid_template_rows": null,
            "height": null,
            "justify_content": null,
            "justify_items": null,
            "left": null,
            "margin": null,
            "max_height": null,
            "max_width": null,
            "min_height": null,
            "min_width": null,
            "object_fit": null,
            "object_position": null,
            "order": null,
            "overflow": null,
            "overflow_x": null,
            "overflow_y": null,
            "padding": null,
            "right": null,
            "top": null,
            "visibility": null,
            "width": null
          }
        },
        "c9b8cf8010b14022af4170caf5a7bf28": {
          "model_module": "@jupyter-widgets/controls",
          "model_name": "DescriptionStyleModel",
          "model_module_version": "1.5.0",
          "state": {
            "_model_module": "@jupyter-widgets/controls",
            "_model_module_version": "1.5.0",
            "_model_name": "DescriptionStyleModel",
            "_view_count": null,
            "_view_module": "@jupyter-widgets/base",
            "_view_module_version": "1.2.0",
            "_view_name": "StyleView",
            "description_width": ""
          }
        },
        "8661cbd92a8a48de8e325696d86e9f28": {
          "model_module": "@jupyter-widgets/base",
          "model_name": "LayoutModel",
          "model_module_version": "1.2.0",
          "state": {
            "_model_module": "@jupyter-widgets/base",
            "_model_module_version": "1.2.0",
            "_model_name": "LayoutModel",
            "_view_count": null,
            "_view_module": "@jupyter-widgets/base",
            "_view_module_version": "1.2.0",
            "_view_name": "LayoutView",
            "align_content": null,
            "align_items": null,
            "align_self": null,
            "border": null,
            "bottom": null,
            "display": null,
            "flex": null,
            "flex_flow": null,
            "grid_area": null,
            "grid_auto_columns": null,
            "grid_auto_flow": null,
            "grid_auto_rows": null,
            "grid_column": null,
            "grid_gap": null,
            "grid_row": null,
            "grid_template_areas": null,
            "grid_template_columns": null,
            "grid_template_rows": null,
            "height": null,
            "justify_content": null,
            "justify_items": null,
            "left": null,
            "margin": null,
            "max_height": null,
            "max_width": null,
            "min_height": null,
            "min_width": null,
            "object_fit": null,
            "object_position": null,
            "order": null,
            "overflow": null,
            "overflow_x": null,
            "overflow_y": null,
            "padding": null,
            "right": null,
            "top": null,
            "visibility": null,
            "width": null
          }
        },
        "aeb7289ace544bc18c005e9331638016": {
          "model_module": "@jupyter-widgets/controls",
          "model_name": "ProgressStyleModel",
          "model_module_version": "1.5.0",
          "state": {
            "_model_module": "@jupyter-widgets/controls",
            "_model_module_version": "1.5.0",
            "_model_name": "ProgressStyleModel",
            "_view_count": null,
            "_view_module": "@jupyter-widgets/base",
            "_view_module_version": "1.2.0",
            "_view_name": "StyleView",
            "bar_color": null,
            "description_width": ""
          }
        },
        "78106d66fb784cd99124b27a76c070f0": {
          "model_module": "@jupyter-widgets/base",
          "model_name": "LayoutModel",
          "model_module_version": "1.2.0",
          "state": {
            "_model_module": "@jupyter-widgets/base",
            "_model_module_version": "1.2.0",
            "_model_name": "LayoutModel",
            "_view_count": null,
            "_view_module": "@jupyter-widgets/base",
            "_view_module_version": "1.2.0",
            "_view_name": "LayoutView",
            "align_content": null,
            "align_items": null,
            "align_self": null,
            "border": null,
            "bottom": null,
            "display": null,
            "flex": null,
            "flex_flow": null,
            "grid_area": null,
            "grid_auto_columns": null,
            "grid_auto_flow": null,
            "grid_auto_rows": null,
            "grid_column": null,
            "grid_gap": null,
            "grid_row": null,
            "grid_template_areas": null,
            "grid_template_columns": null,
            "grid_template_rows": null,
            "height": null,
            "justify_content": null,
            "justify_items": null,
            "left": null,
            "margin": null,
            "max_height": null,
            "max_width": null,
            "min_height": null,
            "min_width": null,
            "object_fit": null,
            "object_position": null,
            "order": null,
            "overflow": null,
            "overflow_x": null,
            "overflow_y": null,
            "padding": null,
            "right": null,
            "top": null,
            "visibility": null,
            "width": null
          }
        },
        "e28af4b11f4b4866a61d01db13d7f03a": {
          "model_module": "@jupyter-widgets/controls",
          "model_name": "DescriptionStyleModel",
          "model_module_version": "1.5.0",
          "state": {
            "_model_module": "@jupyter-widgets/controls",
            "_model_module_version": "1.5.0",
            "_model_name": "DescriptionStyleModel",
            "_view_count": null,
            "_view_module": "@jupyter-widgets/base",
            "_view_module_version": "1.2.0",
            "_view_name": "StyleView",
            "description_width": ""
          }
        }
      }
    }
  },
  "cells": [
    {
      "cell_type": "code",
      "execution_count": null,
      "metadata": {
        "id": "QLy_Cwp4yKny"
      },
      "outputs": [],
      "source": [
        "!pip install -U sentence-transformers"
      ]
    },
    {
      "cell_type": "code",
      "source": [
        "!pip install transformers"
      ],
      "metadata": {
        "id": "jCmisYid3QPk"
      },
      "execution_count": null,
      "outputs": []
    },
    {
      "cell_type": "code",
      "source": [
        "from sentence_transformers import SentenceTransformer\n",
        "from numpy import dot\n",
        "from numpy.linalg import norm\n",
        "from google.colab import drive\n",
        "import pandas as pd\n",
        "import numpy as np\n",
        "import ast\n",
        "import pickle\n",
        "from random import shuffle, choice, sample\n",
        "import tqdm\n",
        "from transformers import BertTokenizer, BertForSequenceClassification\n",
        "import torch\n",
        "from torch.utils.data import TensorDataset, DataLoader, SequentialSampler"
      ],
      "metadata": {
        "id": "Rdby8QZtzxQy"
      },
      "execution_count": 76,
      "outputs": []
    },
    {
      "cell_type": "code",
      "source": [
        "emotions = ['sadness', 'joy', 'love', 'anger', 'fear', 'surprise']"
      ],
      "metadata": {
        "id": "eNBtAYHr9B9I"
      },
      "execution_count": 52,
      "outputs": []
    },
    {
      "cell_type": "code",
      "source": [
        "drive.mount('/content/drive')"
      ],
      "metadata": {
        "colab": {
          "base_uri": "https://localhost:8080/"
        },
        "id": "W9XN_tPa1NQU",
        "outputId": "85853280-8532-4d9c-bcf2-f93d6815e769"
      },
      "execution_count": 4,
      "outputs": [
        {
          "output_type": "stream",
          "name": "stdout",
          "text": [
            "Mounted at /content/drive\n"
          ]
        }
      ]
    },
    {
      "cell_type": "code",
      "source": [
        "sts_model = SentenceTransformer('sentence-transformers/all-MiniLM-L6-v2')"
      ],
      "metadata": {
        "id": "HSrMF5Ygz5nk"
      },
      "execution_count": null,
      "outputs": []
    },
    {
      "cell_type": "code",
      "source": [
        "data = pd.read_csv(\"drive/MyDrive/NLU/spotify_millsongdata.csv\")\n",
        "data.head()"
      ],
      "metadata": {
        "colab": {
          "base_uri": "https://localhost:8080/",
          "height": 206
        },
        "id": "CBEOdU3v1MGN",
        "outputId": "2d694edb-731d-42df-caae-778261cdc66f"
      },
      "execution_count": 6,
      "outputs": [
        {
          "output_type": "execute_result",
          "data": {
            "text/plain": [
              "  artist                   song                                        link  \\\n",
              "0   ABBA  Ahe's My Kind Of Girl  /a/abba/ahes+my+kind+of+girl_20598417.html   \n",
              "1   ABBA       Andante, Andante       /a/abba/andante+andante_20002708.html   \n",
              "2   ABBA         As Good As New        /a/abba/as+good+as+new_20003033.html   \n",
              "3   ABBA                   Bang                  /a/abba/bang_20598415.html   \n",
              "4   ABBA       Bang-A-Boomerang      /a/abba/bang+a+boomerang_20002668.html   \n",
              "\n",
              "                                                text  \n",
              "0  Look at her face, it's a wonderful face  \\r\\nA...  \n",
              "1  Take it easy with me, please  \\r\\nTouch me gen...  \n",
              "2  I'll never know why I had to go  \\r\\nWhy I had...  \n",
              "3  Making somebody happy is a question of give an...  \n",
              "4  Making somebody happy is a question of give an...  "
            ],
            "text/html": [
              "\n",
              "  <div id=\"df-f7d7e018-706f-4045-b27e-31e920fdc494\">\n",
              "    <div class=\"colab-df-container\">\n",
              "      <div>\n",
              "<style scoped>\n",
              "    .dataframe tbody tr th:only-of-type {\n",
              "        vertical-align: middle;\n",
              "    }\n",
              "\n",
              "    .dataframe tbody tr th {\n",
              "        vertical-align: top;\n",
              "    }\n",
              "\n",
              "    .dataframe thead th {\n",
              "        text-align: right;\n",
              "    }\n",
              "</style>\n",
              "<table border=\"1\" class=\"dataframe\">\n",
              "  <thead>\n",
              "    <tr style=\"text-align: right;\">\n",
              "      <th></th>\n",
              "      <th>artist</th>\n",
              "      <th>song</th>\n",
              "      <th>link</th>\n",
              "      <th>text</th>\n",
              "    </tr>\n",
              "  </thead>\n",
              "  <tbody>\n",
              "    <tr>\n",
              "      <th>0</th>\n",
              "      <td>ABBA</td>\n",
              "      <td>Ahe's My Kind Of Girl</td>\n",
              "      <td>/a/abba/ahes+my+kind+of+girl_20598417.html</td>\n",
              "      <td>Look at her face, it's a wonderful face  \\r\\nA...</td>\n",
              "    </tr>\n",
              "    <tr>\n",
              "      <th>1</th>\n",
              "      <td>ABBA</td>\n",
              "      <td>Andante, Andante</td>\n",
              "      <td>/a/abba/andante+andante_20002708.html</td>\n",
              "      <td>Take it easy with me, please  \\r\\nTouch me gen...</td>\n",
              "    </tr>\n",
              "    <tr>\n",
              "      <th>2</th>\n",
              "      <td>ABBA</td>\n",
              "      <td>As Good As New</td>\n",
              "      <td>/a/abba/as+good+as+new_20003033.html</td>\n",
              "      <td>I'll never know why I had to go  \\r\\nWhy I had...</td>\n",
              "    </tr>\n",
              "    <tr>\n",
              "      <th>3</th>\n",
              "      <td>ABBA</td>\n",
              "      <td>Bang</td>\n",
              "      <td>/a/abba/bang_20598415.html</td>\n",
              "      <td>Making somebody happy is a question of give an...</td>\n",
              "    </tr>\n",
              "    <tr>\n",
              "      <th>4</th>\n",
              "      <td>ABBA</td>\n",
              "      <td>Bang-A-Boomerang</td>\n",
              "      <td>/a/abba/bang+a+boomerang_20002668.html</td>\n",
              "      <td>Making somebody happy is a question of give an...</td>\n",
              "    </tr>\n",
              "  </tbody>\n",
              "</table>\n",
              "</div>\n",
              "      <button class=\"colab-df-convert\" onclick=\"convertToInteractive('df-f7d7e018-706f-4045-b27e-31e920fdc494')\"\n",
              "              title=\"Convert this dataframe to an interactive table.\"\n",
              "              style=\"display:none;\">\n",
              "        \n",
              "  <svg xmlns=\"http://www.w3.org/2000/svg\" height=\"24px\"viewBox=\"0 0 24 24\"\n",
              "       width=\"24px\">\n",
              "    <path d=\"M0 0h24v24H0V0z\" fill=\"none\"/>\n",
              "    <path d=\"M18.56 5.44l.94 2.06.94-2.06 2.06-.94-2.06-.94-.94-2.06-.94 2.06-2.06.94zm-11 1L8.5 8.5l.94-2.06 2.06-.94-2.06-.94L8.5 2.5l-.94 2.06-2.06.94zm10 10l.94 2.06.94-2.06 2.06-.94-2.06-.94-.94-2.06-.94 2.06-2.06.94z\"/><path d=\"M17.41 7.96l-1.37-1.37c-.4-.4-.92-.59-1.43-.59-.52 0-1.04.2-1.43.59L10.3 9.45l-7.72 7.72c-.78.78-.78 2.05 0 2.83L4 21.41c.39.39.9.59 1.41.59.51 0 1.02-.2 1.41-.59l7.78-7.78 2.81-2.81c.8-.78.8-2.07 0-2.86zM5.41 20L4 18.59l7.72-7.72 1.47 1.35L5.41 20z\"/>\n",
              "  </svg>\n",
              "      </button>\n",
              "      \n",
              "  <style>\n",
              "    .colab-df-container {\n",
              "      display:flex;\n",
              "      flex-wrap:wrap;\n",
              "      gap: 12px;\n",
              "    }\n",
              "\n",
              "    .colab-df-convert {\n",
              "      background-color: #E8F0FE;\n",
              "      border: none;\n",
              "      border-radius: 50%;\n",
              "      cursor: pointer;\n",
              "      display: none;\n",
              "      fill: #1967D2;\n",
              "      height: 32px;\n",
              "      padding: 0 0 0 0;\n",
              "      width: 32px;\n",
              "    }\n",
              "\n",
              "    .colab-df-convert:hover {\n",
              "      background-color: #E2EBFA;\n",
              "      box-shadow: 0px 1px 2px rgba(60, 64, 67, 0.3), 0px 1px 3px 1px rgba(60, 64, 67, 0.15);\n",
              "      fill: #174EA6;\n",
              "    }\n",
              "\n",
              "    [theme=dark] .colab-df-convert {\n",
              "      background-color: #3B4455;\n",
              "      fill: #D2E3FC;\n",
              "    }\n",
              "\n",
              "    [theme=dark] .colab-df-convert:hover {\n",
              "      background-color: #434B5C;\n",
              "      box-shadow: 0px 1px 3px 1px rgba(0, 0, 0, 0.15);\n",
              "      filter: drop-shadow(0px 1px 2px rgba(0, 0, 0, 0.3));\n",
              "      fill: #FFFFFF;\n",
              "    }\n",
              "  </style>\n",
              "\n",
              "      <script>\n",
              "        const buttonEl =\n",
              "          document.querySelector('#df-f7d7e018-706f-4045-b27e-31e920fdc494 button.colab-df-convert');\n",
              "        buttonEl.style.display =\n",
              "          google.colab.kernel.accessAllowed ? 'block' : 'none';\n",
              "\n",
              "        async function convertToInteractive(key) {\n",
              "          const element = document.querySelector('#df-f7d7e018-706f-4045-b27e-31e920fdc494');\n",
              "          const dataTable =\n",
              "            await google.colab.kernel.invokeFunction('convertToInteractive',\n",
              "                                                     [key], {});\n",
              "          if (!dataTable) return;\n",
              "\n",
              "          const docLinkHtml = 'Like what you see? Visit the ' +\n",
              "            '<a target=\"_blank\" href=https://colab.research.google.com/notebooks/data_table.ipynb>data table notebook</a>'\n",
              "            + ' to learn more about interactive tables.';\n",
              "          element.innerHTML = '';\n",
              "          dataTable['output_type'] = 'display_data';\n",
              "          await google.colab.output.renderOutput(dataTable, element);\n",
              "          const docLink = document.createElement('div');\n",
              "          docLink.innerHTML = docLinkHtml;\n",
              "          element.appendChild(docLink);\n",
              "        }\n",
              "      </script>\n",
              "    </div>\n",
              "  </div>\n",
              "  "
            ]
          },
          "metadata": {},
          "execution_count": 6
        }
      ]
    },
    {
      "cell_type": "code",
      "source": [
        "lyrics = data.text\n",
        "lyrics = [str(song).replace(\"\\r\", \"\").replace(\"\\n\", \"\") for song in lyrics]"
      ],
      "metadata": {
        "id": "fsRqujoKAgma"
      },
      "execution_count": 74,
      "outputs": []
    },
    {
      "cell_type": "code",
      "source": [
        "lyrics[1]"
      ],
      "metadata": {
        "colab": {
          "base_uri": "https://localhost:8080/",
          "height": 105
        },
        "id": "6DyzC9W8Anqq",
        "outputId": "0f347f70-2fbd-46dd-a97a-a5df40358160"
      },
      "execution_count": 75,
      "outputs": [
        {
          "output_type": "execute_result",
          "data": {
            "text/plain": [
              "\"Take it easy with me, please  Touch me gently like a summer evening breeze  Take your time, make it slow  Andante, Andante  Just let the feeling grow    Make your fingers soft and light  Let your body be the velvet of the night  Touch my soul, you know how  Andante, Andante  Go slowly with me now    I'm your music  (I am your music and I am your song)  I'm your song  (I am your music and I am your song)  Play me time and time again and make me strong  (Play me again 'cause you're making me strong)  Make me sing, make me sound  (You make me sing and you make me)  Andante, Andante  Tread lightly on my ground  Andante, Andante  Oh please don't let me down    There's a shimmer in your eyes  Like the feeling of a thousand butterflies  Please don't talk, go on, play  Andante, Andante  And let me float away    I'm your music  (I am your music and I am your song)  I'm your song  (I am your music and I am your song)  Play me time and time again and make me strong  (Play me again 'cause you're making me strong)  Make me sing, make me sound  (You make me sing and you make me)  Andante, Andante  Tread lightly on my ground  Andante, Andante  Oh please don't let me down    Make me sing, make me sound  (You make me sing and you make me)  Andante, Andante  Tread lightly on my ground  Andante, Andante  Oh please don't let me down  Andante, Andante  Oh please don't let me down\""
            ],
            "application/vnd.google.colaboratory.intrinsic+json": {
              "type": "string"
            }
          },
          "metadata": {},
          "execution_count": 75
        }
      ]
    },
    {
      "cell_type": "code",
      "source": [
        "tokeniser = BertTokenizer.from_pretrained('bert-base-uncased', do_lower_case=True)"
      ],
      "metadata": {
        "colab": {
          "base_uri": "https://localhost:8080/",
          "height": 113,
          "referenced_widgets": [
            "e20df26a449241448d3e3220e9d252c7",
            "0e5b4ae641a94c708f59a48f9528efaf",
            "e5fff7e9157e45a7806afa95cf4a796b",
            "046131cc653c401b940465f884814aec",
            "1f39edb1e6a444a3846a07f9b91909e1",
            "9a2f837365e543eeac7ef0722cb73e46",
            "95a6d8eb838c412488af7fec7509cc4a",
            "0e2b02d99b1d4bf4a30a3fcaf6e2cb9c",
            "793a0543b2264f9292ff60be52e4dd5b",
            "d7e1c2c319cd45d6b0ac5294e38692cf",
            "cdf423d67c8c4752a5f2652ce777ff1d",
            "aa414923ee2a40a5b5812a501ea326b4",
            "0562f8d6df35457dae3e5333b08b49f2",
            "92c2dd89c40146efb7b1cc53df913952",
            "60d7f7ca47294924b4353903a6e61f64",
            "d1dd08f27fc54325a52acf539f48f08c",
            "cafaaca003054afa8f7f21c49ee38533",
            "9da2f08d37b74d0e8d0fcf1422d56172",
            "01d9d73f4e8b407b94ccd075b443eaee",
            "3b4ebd38f69945a5b206b0ca1b497207",
            "bc1eb379ffb04427b409f275fe2eac14",
            "48017c80ffed4f1787346b0c947d8b74",
            "f5b0115da3494d0fba1103c1b1a2b52c",
            "029e4c9618b044328068940baf22fe10",
            "38f89da448bc40918fae1e55742953cd",
            "f6044b175661492790c4201c8477b087",
            "3c4d05459f3e499cb9d50483bbe35b1e",
            "dc873b1ce6f7444da3ed04c2c15a8a54",
            "c9b8cf8010b14022af4170caf5a7bf28",
            "8661cbd92a8a48de8e325696d86e9f28",
            "aeb7289ace544bc18c005e9331638016",
            "78106d66fb784cd99124b27a76c070f0",
            "e28af4b11f4b4866a61d01db13d7f03a"
          ]
        },
        "id": "yKdk3Qkb1MC4",
        "outputId": "1eea507c-a4fb-4ba3-c7ef-7495522f7067"
      },
      "execution_count": 7,
      "outputs": [
        {
          "output_type": "display_data",
          "data": {
            "text/plain": [
              "Downloading (…)solve/main/vocab.txt:   0%|          | 0.00/232k [00:00<?, ?B/s]"
            ],
            "application/vnd.jupyter.widget-view+json": {
              "version_major": 2,
              "version_minor": 0,
              "model_id": "e20df26a449241448d3e3220e9d252c7"
            }
          },
          "metadata": {}
        },
        {
          "output_type": "display_data",
          "data": {
            "text/plain": [
              "Downloading (…)okenizer_config.json:   0%|          | 0.00/28.0 [00:00<?, ?B/s]"
            ],
            "application/vnd.jupyter.widget-view+json": {
              "version_major": 2,
              "version_minor": 0,
              "model_id": "aa414923ee2a40a5b5812a501ea326b4"
            }
          },
          "metadata": {}
        },
        {
          "output_type": "display_data",
          "data": {
            "text/plain": [
              "Downloading (…)lve/main/config.json:   0%|          | 0.00/570 [00:00<?, ?B/s]"
            ],
            "application/vnd.jupyter.widget-view+json": {
              "version_major": 2,
              "version_minor": 0,
              "model_id": "f5b0115da3494d0fba1103c1b1a2b52c"
            }
          },
          "metadata": {}
        }
      ]
    },
    {
      "cell_type": "code",
      "source": [
        "def encode(corpus):\n",
        "    encoded = tokeniser.encode_plus(corpus, max_length=128,\n",
        "                                         add_special_tokens=True,\n",
        "                                         return_attention_mask=True,\n",
        "                                         truncation=True,\n",
        "                                         return_tensors='pt',\n",
        "                                         padding='max_length')\n",
        "\n",
        "    return encoded['input_ids'], encoded['attention_mask']"
      ],
      "metadata": {
        "id": "vgA_pSu31L-B"
      },
      "execution_count": 41,
      "outputs": []
    },
    {
      "cell_type": "code",
      "source": [
        "classifier = BertForSequenceClassification.from_pretrained('bert-base-uncased',\n",
        "                                                          num_labels=6,\n",
        "                                                          output_attentions=False,\n",
        "                                                          output_hidden_states=False)\n",
        "\n",
        "classifier.load_state_dict(torch.load('drive/MyDrive/NLU/finalsmalldict.zip'))"
      ],
      "metadata": {
        "colab": {
          "base_uri": "https://localhost:8080/"
        },
        "id": "ZkqIsR6X1LwM",
        "outputId": "f3bbb1c6-7698-42c9-8d6c-16cf8166ac87"
      },
      "execution_count": 9,
      "outputs": [
        {
          "output_type": "stream",
          "name": "stderr",
          "text": [
            "Some weights of the model checkpoint at bert-base-uncased were not used when initializing BertForSequenceClassification: ['cls.predictions.decoder.weight', 'cls.predictions.transform.LayerNorm.bias', 'cls.predictions.transform.LayerNorm.weight', 'cls.seq_relationship.weight', 'cls.seq_relationship.bias', 'cls.predictions.bias', 'cls.predictions.transform.dense.weight', 'cls.predictions.transform.dense.bias']\n",
            "- This IS expected if you are initializing BertForSequenceClassification from the checkpoint of a model trained on another task or with another architecture (e.g. initializing a BertForSequenceClassification model from a BertForPreTraining model).\n",
            "- This IS NOT expected if you are initializing BertForSequenceClassification from the checkpoint of a model that you expect to be exactly identical (initializing a BertForSequenceClassification model from a BertForSequenceClassification model).\n",
            "Some weights of BertForSequenceClassification were not initialized from the model checkpoint at bert-base-uncased and are newly initialized: ['classifier.bias', 'classifier.weight']\n",
            "You should probably TRAIN this model on a down-stream task to be able to use it for predictions and inference.\n"
          ]
        },
        {
          "output_type": "execute_result",
          "data": {
            "text/plain": [
              "<All keys matched successfully>"
            ]
          },
          "metadata": {},
          "execution_count": 9
        }
      ]
    },
    {
      "cell_type": "code",
      "source": [
        "def make_classifier_prediction(input_text):\n",
        "  ids, masks = encode(input_text)\n",
        "\n",
        "  tensored = TensorDataset(ids, masks)\n",
        "  sampler = SequentialSampler(tensored)\n",
        "  dataloader = DataLoader(tensored, sampler=sampler)\n",
        "\n",
        "  with torch.no_grad():\n",
        "    for data in dataloader:\n",
        "      id, mask = [x.to('cpu') for x in data]\n",
        "      output = classifier(input_ids=id, attention_mask=mask)\n",
        "\n",
        "      label = np.argmax(output.logits.cpu().detach().numpy(), axis=-1)\n",
        "      \n",
        "      return label[0]"
      ],
      "metadata": {
        "id": "z5gA-WYvzTfq"
      },
      "execution_count": 118,
      "outputs": []
    },
    {
      "cell_type": "code",
      "source": [
        "pred = make_classifier_prediction('Happy and sad songs')\n",
        "print(emotions[pred])"
      ],
      "metadata": {
        "colab": {
          "base_uri": "https://localhost:8080/"
        },
        "id": "oisB9KAu7HBF",
        "outputId": "8408fb3d-e9cb-435b-ceae-b1a6eec1f0dc"
      },
      "execution_count": 119,
      "outputs": [
        {
          "output_type": "stream",
          "name": "stdout",
          "text": [
            "joy\n"
          ]
        }
      ]
    },
    {
      "cell_type": "code",
      "source": [
        "with open('drive/MyDrive/NLU/emotion_dict.pkl', 'rb') as f:\n",
        "  emotion_dict = pickle.load(f)\n",
        "\n",
        "emotion_dict['love'][0:20]"
      ],
      "metadata": {
        "id": "SE_K_ejh7qak",
        "colab": {
          "base_uri": "https://localhost:8080/"
        },
        "outputId": "b193cd07-80d7-4f55-b972-4889ef7fac7b"
      },
      "execution_count": 13,
      "outputs": [
        {
          "output_type": "execute_result",
          "data": {
            "text/plain": [
              "[1, 3, 4, 7, 10, 11, 17, 18, 19, 23, 24, 30, 39, 43, 46, 48, 50, 53, 55, 56]"
            ]
          },
          "metadata": {},
          "execution_count": 13
        }
      ]
    },
    {
      "cell_type": "code",
      "source": [
        "def cosine_sim(inp, targets):\n",
        "  cos_sim = []\n",
        "  for target in targets:\n",
        "    score = dot(inp,target)/(norm(inp)*norm(target))\n",
        "    cos_sim.append(score)\n",
        "  return cos_sim"
      ],
      "metadata": {
        "id": "o72e8XGl7qPt"
      },
      "execution_count": 129,
      "outputs": []
    },
    {
      "cell_type": "code",
      "source": [
        "def get_songs_by_song(input_song, length):\n",
        "  choices = []\n",
        "  emotion_idx = make_classifier_prediction(input_song)\n",
        "  emotion = emotions[emotion_idx]\n",
        "  print(f\"Detected Emotion: {emotion}\")\n",
        "  print(\"Running STS model\")\n",
        "  options = emotion_dict[emotion]\n",
        "  options = sample(options, 5000)\n",
        "  all_lyrics = []\n",
        "  for option in options:\n",
        "    song_lyrics = lyrics[option]\n",
        "    all_lyrics.append(song_lyrics)\n",
        "  \n",
        "  embeddings = sts_model.encode(all_lyrics)\n",
        "  inp_embedding = sts_model.encode(input_song)\n",
        "\n",
        "  sims = cosine_sim(inp_embedding, embeddings)\n",
        "  \n",
        "  print(\"Extracting Best Matches\")\n",
        "  choice_indices = [x for _,x in sorted(zip(sims, options), reverse=True)]\n",
        "  choice_indices = choice_indices[0:length]\n",
        "\n",
        "  for index in choice_indices:\n",
        "      choices.append(f\"{data.artist[index]} - {data.song[index]}\")\n",
        "\n",
        "  print(\"Playlist Generated:\")\n",
        "  return choices\n"
      ],
      "metadata": {
        "id": "h-T6s4Vs_FnP"
      },
      "execution_count": 138,
      "outputs": []
    },
    {
      "cell_type": "code",
      "source": [
        "def get_songs_by_emotion(input_text, length):\n",
        "\n",
        "  emotion_idx = make_classifier_prediction(input_text)\n",
        "  emotion = emotions[emotion_idx]\n",
        "  print(f\"Detected Emotion: {emotion}\")\n",
        "  options = emotion_dict[emotion]\n",
        "  choice_indices = sample(options, length)\n",
        "  choices = []\n",
        "  for index in choice_indices:\n",
        "    choices.append(f\"{data.artist[index]} - {data.song[index]}\")\n",
        "  \n",
        "  print(\"Playlist Generated:\")\n",
        "  return choices\n"
      ],
      "metadata": {
        "id": "y8VTR2viy3fx"
      },
      "execution_count": 86,
      "outputs": []
    },
    {
      "cell_type": "code",
      "source": [
        "get_songs_by_emotion('I want to be enraged', 50)"
      ],
      "metadata": {
        "colab": {
          "base_uri": "https://localhost:8080/"
        },
        "id": "3FFW0s45y3aW",
        "outputId": "20704604-49e1-4feb-c1ee-fa667e748136"
      },
      "execution_count": 124,
      "outputs": [
        {
          "output_type": "stream",
          "name": "stdout",
          "text": [
            "Detected Emotion: anger\n",
            "Playlist Generated:\n"
          ]
        },
        {
          "output_type": "execute_result",
          "data": {
            "text/plain": [
              "['Bruce Springsteen - Bring On The Night',\n",
              " 'John Prine - Aimless Love',\n",
              " 'Scorpions - Cause I Love You',\n",
              " 'Nicki Minaj - Roman Holiday',\n",
              " 'Nick Cave - The Carny',\n",
              " 'Bob Seger - Momma',\n",
              " 'Phish - Boogie On Reggae Woman - Phish',\n",
              " 'Rolling Stones - Get Off Of My Cloud',\n",
              " 'Chris Brown - Bomb',\n",
              " 'Fabolous - The Get Back',\n",
              " 'Dream Theater - Perfect Strangers',\n",
              " 'J Cole - The Autograph',\n",
              " 'Alison Krauss - Down To The River To Pray',\n",
              " 'Devo - Golden Energy',\n",
              " 'Eddie Cochran - You Been Torturing Me',\n",
              " 'Glen Campbell - World I Used To Know',\n",
              " 'Cinderella - Take Me Back',\n",
              " 'Def Leppard - I Wanna Touch You',\n",
              " 'Everlast - Tired',\n",
              " 'Justin Timberlake - Breath',\n",
              " 'Keith Urban - Heart Like Mine',\n",
              " 'OneRepublic - Secrets',\n",
              " 'Tim McGraw - Wherever The Trail May Lead',\n",
              " 'Xavier Rudd - Set It Up',\n",
              " 'Pitbull - Celebrate',\n",
              " 'Linkin Park - Keys To The Kingdom',\n",
              " 'David Allan Coe - Get A Little Dirt On Your Hands',\n",
              " 'Devo - Goo Goo Itch',\n",
              " 'Nitty Gritty Dirt Band - Colorado Christmas',\n",
              " 'Jackson Browne - And I See',\n",
              " 'Kanye West - Good Life',\n",
              " 'The Temptations - Papa Was A Rolling Stone',\n",
              " 'Arlo Guthrie - My Love',\n",
              " 'Linda Ronstadt - Mean To Me',\n",
              " \"Gary Numan - I'm An Agent\",\n",
              " 'Unkle - I Need Something Stronger',\n",
              " \"Justin Bieber - What's Hatnin'\",\n",
              " 'Quarterflash - Night Shift',\n",
              " 'Outkast - Dirt Work',\n",
              " 'Judas Priest - Island Of Domination',\n",
              " 'Nina Simone - Dambala',\n",
              " 'Ramones - Mental Hell',\n",
              " 'Boney M. - Take The Heat Off Me',\n",
              " 'Imagine Dragons - I Was Me',\n",
              " \"Reo Speedwagon - Can't Lie To My Heart\",\n",
              " 'Cyndi Lauper - Higher Plane',\n",
              " 'Heart - Wheels',\n",
              " 'Lady Gaga - Government Hooker',\n",
              " 'Fall Out Boy - Jet Pack Blues',\n",
              " 'Ozzy Osbourne - Working Class Hero']"
            ]
          },
          "metadata": {},
          "execution_count": 124
        }
      ]
    },
    {
      "cell_type": "code",
      "source": [
        "song_input = input(\"Enter song lyrics: \")\n",
        "get_songs_by_song(song_input, 30)"
      ],
      "metadata": {
        "colab": {
          "base_uri": "https://localhost:8080/"
        },
        "id": "UN630E_x5wbq",
        "outputId": "5a85ec36-2a03-4d43-8a57-469ae211443f"
      },
      "execution_count": 140,
      "outputs": [
        {
          "output_type": "stream",
          "name": "stdout",
          "text": [
            "Enter song lyrics: Let me hold you for the last time It's the last chance to feel again But you broke me Now I can't feel anything When I love you, it's so untrue I can't even convince myself When I'm speaking It's the voice of someone else Oh, it tears me up I tried to hold on but it hurts too much I tried to forgive but it's not enough To make it all okay You can't play on broken strings You can't feel anything That your heart don't want to feel I can't tell you something that ain't real Oh, the truth hurts and lies worse How can I give anymore When I love you a little less than before? Oh, what are we doing? We are turning into dust Playing house in the ruins of us Running back through the fire When there's nothing left to save It's like chasing the very last train When it's too late, too late Oh, it tears me up I tried to hold on but it hurts too much I tried to forgive but it's not enough To make it all okay You can't play on broken strings You can't feel anything That your heart don't want to feel I can't tell you something that ain't real Oh, the truth hurts and lies worse How can I give anymore? When I love you a little less than before? But we're running through the fire When there's nothing left to save It's like chasing the very last train When we both know it's too late, too late You can't play on broken strings You can't feel anything That your heart don't want to feel I can't tell you something that ain't real Oh, the truth hurts and lies worse So how can I give anymore When I love you a little less than before? Oh, you know that I love you a little less than before Let me hold you for the last time It's the last chance to feel again\n",
            "Detected Emotion: sadness\n",
            "Running STS model\n",
            "Extracting Best Matches\n",
            "Playlist Generated:\n"
          ]
        },
        {
          "output_type": "execute_result",
          "data": {
            "text/plain": [
              "[\"Alabama - I Can't Love You Any Less\",\n",
              " 'Westlife - How To Break A Heart',\n",
              " 'Cher - Hard Enough Getting Over You',\n",
              " \"Howard Jones - You Can Say It's All Over\",\n",
              " \"Barbra Streisand - Heart Don't Change My Mind\",\n",
              " \"Gloria Estefan - Can't Forget You\",\n",
              " 'Kim Wilde - Falling Out',\n",
              " \"Donna Summer - Maybe It's Over\",\n",
              " 'Westlife - I Get Weak',\n",
              " \"Westlife - If Your Heart's Not In It\",\n",
              " 'Cliff Richard - All The Time You Need',\n",
              " \"Cliff Richard - Love's Salvation\",\n",
              " 'Backstreet Boys - Try',\n",
              " 'Howard Jones - One Last Try',\n",
              " 'P!nk - Numb',\n",
              " 'Air Supply - Tonite',\n",
              " 'Judds - Cry Myself To Sleep',\n",
              " 'Johnny Cash - Brand New Dance (featuring June Carter)',\n",
              " 'Miley Cyrus - FU',\n",
              " 'Bon Jovi - Heartbreak Eyes',\n",
              " 'Richard Marx - Slipping Away',\n",
              " \"Kyla - Doin' Just Fine\",\n",
              " 'Freestyle - Missing You',\n",
              " 'Yellowcard - Firewater',\n",
              " \"Conway Twitty - Don't Put Your Hurt In My Heart\",\n",
              " 'Leann Rimes - When You Love Someone Like That',\n",
              " 'David Guetta - When Love Takes Over',\n",
              " \"Dusty Springfield - I Can't Give Back The Love I Feel For You\",\n",
              " 'Quietdrive - Get Up',\n",
              " 'Everlast - Broken']"
            ]
          },
          "metadata": {},
          "execution_count": 140
        }
      ]
    },
    {
      "cell_type": "markdown",
      "source": [
        "# Demo Block"
      ],
      "metadata": {
        "id": "Z2_JTYly5ulh"
      }
    },
    {
      "cell_type": "markdown",
      "source": [
        "We need to clean up the notebooks and set up the readme for submission etc."
      ],
      "metadata": {
        "id": "hz2KBcybL81t"
      }
    }
  ]
}