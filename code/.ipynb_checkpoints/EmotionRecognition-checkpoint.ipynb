{
 "cells": [
  {
   "cell_type": "code",
   "execution_count": 1,
   "metadata": {},
   "outputs": [
    {
     "name": "stderr",
     "output_type": "stream",
     "text": [
      "2023-04-11 17:55:47.789403: I tensorflow/core/platform/cpu_feature_guard.cc:193] This TensorFlow binary is optimized with oneAPI Deep Neural Network Library (oneDNN) to use the following CPU instructions in performance-critical operations:  AVX2 FMA\n",
      "To enable them in other operations, rebuild TensorFlow with the appropriate compiler flags.\n",
      "2023-04-11 17:55:48.156732: W tensorflow/compiler/xla/stream_executor/platform/default/dso_loader.cc:64] Could not load dynamic library 'libcudart.so.11.0'; dlerror: libcudart.so.11.0: cannot open shared object file: No such file or directory\n",
      "2023-04-11 17:55:48.156754: I tensorflow/compiler/xla/stream_executor/cuda/cudart_stub.cc:29] Ignore above cudart dlerror if you do not have a GPU set up on your machine.\n",
      "2023-04-11 17:55:49.408482: W tensorflow/compiler/xla/stream_executor/platform/default/dso_loader.cc:64] Could not load dynamic library 'libnvinfer.so.7'; dlerror: libnvinfer.so.7: cannot open shared object file: No such file or directory\n",
      "2023-04-11 17:55:49.408553: W tensorflow/compiler/xla/stream_executor/platform/default/dso_loader.cc:64] Could not load dynamic library 'libnvinfer_plugin.so.7'; dlerror: libnvinfer_plugin.so.7: cannot open shared object file: No such file or directory\n",
      "2023-04-11 17:55:49.408559: W tensorflow/compiler/tf2tensorrt/utils/py_utils.cc:38] TF-TRT Warning: Cannot dlopen some TensorRT libraries. If you would like to use Nvidia GPU with TensorRT, please make sure the missing libraries mentioned above are installed properly.\n"
     ]
    }
   ],
   "source": [
    "import numpy as np\n",
    "import pandas as pd\n",
    "\n",
    "import tensorflow as tf\n",
    "import tensorflow_hub as hub\n",
    "import tensorflow_text as text\n",
    "from official.nlp import optimization\n",
    "from sklearn.model_selection import train_test_split\n",
    "from datasets import load_dataset"
   ]
  },
  {
   "cell_type": "code",
   "execution_count": 234,
   "metadata": {},
   "outputs": [],
   "source": [
    "datapath = './data/tweet_emotions.csv'\n",
    "\n",
    "data = pd.read_csv(datapath)\n",
    "process_url = 'https://tfhub.dev/tensorflow/bert_en_uncased_preprocess/3'\n",
    "bert_url =  \"https://tfhub.dev/tensorflow/small_bert/bert_en_uncased_L-4_H-256_A-4/2\""
   ]
  },
  {
   "cell_type": "code",
   "execution_count": 235,
   "metadata": {},
   "outputs": [
    {
     "name": "stdout",
     "output_type": "stream",
     "text": [
      "{'hate', 'neutral', 'enthusiasm', 'empty', 'surprise', 'love', 'happiness', 'boredom', 'relief', 'anger', 'fun', 'worry', 'sadness'}\n"
     ]
    }
   ],
   "source": [
    "print(set(data['sentiment'].values))"
   ]
  },
  {
   "cell_type": "code",
   "execution_count": 239,
   "metadata": {},
   "outputs": [],
   "source": [
    "data['Labels'] = data['sentiment'].map({'love': 0,\n",
    "                                       'boredom': 7,\n",
    "                                       'worry': 2,\n",
    "                                       'sadness': 3,\n",
    "                                       'relief': 4,\n",
    "                                       'neutral': 5,\n",
    "                                       'enthusiasm': 6,\n",
    "                                       'empty': 7,\n",
    "                                       'anger': 9,\n",
    "                                       'hate': 9,\n",
    "                                       'fun': 10,\n",
    "                                       'happiness': 1,\n",
    "                                       'surprise': 8})"
   ]
  },
  {
   "cell_type": "code",
   "execution_count": 240,
   "metadata": {},
   "outputs": [],
   "source": [
    "classes = set(data['Labels'].values)"
   ]
  },
  {
   "cell_type": "code",
   "execution_count": 241,
   "metadata": {},
   "outputs": [
    {
     "name": "stdout",
     "output_type": "stream",
     "text": [
      "0 : 3842\n",
      "1 : 5209\n",
      "2 : 8459\n",
      "3 : 5165\n",
      "4 : 1526\n",
      "5 : 8638\n",
      "6 : 759\n",
      "7 : 1006\n",
      "8 : 2187\n",
      "9 : 1433\n",
      "10 : 1776\n"
     ]
    }
   ],
   "source": [
    "for sent in classes:\n",
    "    print(\"{} : {}\".format(sent, len(data[data['Labels'] == sent])))"
   ]
  },
  {
   "cell_type": "code",
   "execution_count": 242,
   "metadata": {},
   "outputs": [],
   "source": [
    "num_classes= len(data['Labels'].value_counts())"
   ]
  },
  {
   "cell_type": "code",
   "execution_count": 243,
   "metadata": {
    "scrolled": false
   },
   "outputs": [
    {
     "name": "stdout",
     "output_type": "stream",
     "text": [
      "{0, 1, 2, 3, 4, 5, 6, 7, 8, 9, 10}\n"
     ]
    }
   ],
   "source": [
    "print(set(data['Labels'].values))"
   ]
  },
  {
   "cell_type": "code",
   "execution_count": 244,
   "metadata": {},
   "outputs": [
    {
     "name": "stdout",
     "output_type": "stream",
     "text": [
      "Index(['tweet_id', 'sentiment', 'content', 'Labels'], dtype='object')\n"
     ]
    }
   ],
   "source": [
    "print(data.columns)"
   ]
  },
  {
   "cell_type": "code",
   "execution_count": 245,
   "metadata": {},
   "outputs": [],
   "source": [
    "data = data.drop(['tweet_id'], axis=1)\n",
    "data = data.drop(['sentiment'], axis=1)"
   ]
  },
  {
   "cell_type": "code",
   "execution_count": 246,
   "metadata": {},
   "outputs": [
    {
     "name": "stdout",
     "output_type": "stream",
     "text": [
      "Index(['content', 'Labels'], dtype='object')\n"
     ]
    }
   ],
   "source": [
    "print(data.columns)"
   ]
  },
  {
   "cell_type": "code",
   "execution_count": 247,
   "metadata": {},
   "outputs": [],
   "source": [
    "y = tf.keras.utils.to_categorical(data['Labels'].values, num_classes=num_classes)\n",
    "x_train, x_test, y_train, y_test = train_test_split(data['content'], y, test_size=0.15)"
   ]
  },
  {
   "cell_type": "code",
   "execution_count": 248,
   "metadata": {},
   "outputs": [],
   "source": [
    "preprocessor = hub.KerasLayer(process_url)\n",
    "\n",
    "encoder = hub.KerasLayer(bert_url)"
   ]
  },
  {
   "cell_type": "code",
   "execution_count": 249,
   "metadata": {},
   "outputs": [],
   "source": [
    "test_text = ['an exmaple of a tweet!?']\n",
    "\n",
    "processed = preprocessor(test_text)\n",
    "results = encoder(processed)"
   ]
  },
  {
   "cell_type": "code",
   "execution_count": 250,
   "metadata": {},
   "outputs": [],
   "source": [
    "def build_emotion_model():\n",
    "    input_layer = tf.keras.layers.Input(shape=(), dtype=tf.string, name='text')\n",
    "    net = preprocessor(input_layer)\n",
    "    net = encoder(net)\n",
    "    net = tf.keras.layers.Dropout(0.2, name=\"dropout\")(net['pooled_output'])\n",
    "    net = tf.keras.layers.Dense(num_classes, activation='softmax', name='output')(net)\n",
    "    return tf.keras.Model(input_layer, net)"
   ]
  },
  {
   "cell_type": "code",
   "execution_count": 251,
   "metadata": {},
   "outputs": [],
   "source": [
    "emotion_model = build_emotion_model()"
   ]
  },
  {
   "cell_type": "code",
   "execution_count": 252,
   "metadata": {},
   "outputs": [
    {
     "name": "stdout",
     "output_type": "stream",
     "text": [
      "tf.Tensor(\n",
      "[[0.07121565 0.04827434 0.0162382  0.06660061 0.03382417 0.21303013\n",
      "  0.0569303  0.07602425 0.13863552 0.03867605 0.24055083]], shape=(1, 11), dtype=float32)\n"
     ]
    }
   ],
   "source": [
    "raw_result = emotion_model(tf.constant(test_text))\n",
    "print(raw_result)"
   ]
  },
  {
   "cell_type": "code",
   "execution_count": 253,
   "metadata": {},
   "outputs": [
    {
     "name": "stdout",
     "output_type": "stream",
     "text": [
      "Model: \"model_10\"\n",
      "__________________________________________________________________________________________________\n",
      " Layer (type)                   Output Shape         Param #     Connected to                     \n",
      "==================================================================================================\n",
      " text (InputLayer)              [(None,)]            0           []                               \n",
      "                                                                                                  \n",
      " keras_layer_21 (KerasLayer)    {'input_type_ids':   0           ['text[0][0]']                   \n",
      "                                (None, 128),                                                      \n",
      "                                 'input_word_ids':                                                \n",
      "                                (None, 128),                                                      \n",
      "                                 'input_mask': (Non                                               \n",
      "                                e, 128)}                                                          \n",
      "                                                                                                  \n",
      " keras_layer_22 (KerasLayer)    {'default': (None,   11170561    ['keras_layer_21[0][0]',         \n",
      "                                256),                             'keras_layer_21[0][1]',         \n",
      "                                 'encoder_outputs':               'keras_layer_21[0][2]']         \n",
      "                                 [(None, 128, 256),                                               \n",
      "                                 (None, 128, 256),                                                \n",
      "                                 (None, 128, 256),                                                \n",
      "                                 (None, 128, 256)],                                               \n",
      "                                 'sequence_output':                                               \n",
      "                                 (None, 128, 256),                                                \n",
      "                                 'pooled_output': (                                               \n",
      "                                None, 256)}                                                       \n",
      "                                                                                                  \n",
      " dropout (Dropout)              (None, 256)          0           ['keras_layer_22[0][5]']         \n",
      "                                                                                                  \n",
      " output (Dense)                 (None, 11)           2827        ['dropout[0][0]']                \n",
      "                                                                                                  \n",
      "==================================================================================================\n",
      "Total params: 11,173,388\n",
      "Trainable params: 2,827\n",
      "Non-trainable params: 11,170,561\n",
      "__________________________________________________________________________________________________\n"
     ]
    }
   ],
   "source": [
    "emotion_model.summary()"
   ]
  },
  {
   "cell_type": "code",
   "execution_count": 254,
   "metadata": {},
   "outputs": [],
   "source": [
    "metrics = [tf.metrics.CategoricalAccuracy(name=\"accuracy\")]"
   ]
  },
  {
   "cell_type": "code",
   "execution_count": 255,
   "metadata": {},
   "outputs": [],
   "source": [
    "emotion_model.compile(optimizer=\"adam\", loss=\"categorical_crossentropy\", metrics=metrics)"
   ]
  },
  {
   "cell_type": "code",
   "execution_count": 256,
   "metadata": {},
   "outputs": [
    {
     "name": "stdout",
     "output_type": "stream",
     "text": [
      "Epoch 1/3\n",
      "1063/1063 [==============================] - 428s 400ms/step - loss: 2.1340 - accuracy: 0.2520 - val_loss: 2.0078 - val_accuracy: 0.2977\n",
      "Epoch 2/3\n",
      "1063/1063 [==============================] - 440s 414ms/step - loss: 2.0459 - accuracy: 0.2824 - val_loss: 2.0081 - val_accuracy: 0.2983\n",
      "Epoch 3/3\n",
      "1063/1063 [==============================] - 441s 415ms/step - loss: 2.0176 - accuracy: 0.2943 - val_loss: 1.9855 - val_accuracy: 0.3157\n"
     ]
    }
   ],
   "source": [
    "history = emotion_model.fit(x_train, y_train, epochs=3,\n",
    "                           validation_data = (x_test, y_test))"
   ]
  },
  {
   "cell_type": "code",
   "execution_count": 263,
   "metadata": {},
   "outputs": [
    {
     "data": {
      "text/plain": [
       "<tf.Tensor: shape=(1, 11), dtype=float32, numpy=\n",
       "array([[0.04596546, 0.04604487, 0.3074423 , 0.20900224, 0.01844118,\n",
       "        0.16234991, 0.00957326, 0.03586677, 0.06250266, 0.08517534,\n",
       "        0.01763606]], dtype=float32)>"
      ]
     },
     "execution_count": 263,
     "metadata": {},
     "output_type": "execute_result"
    }
   ],
   "source": [
    "emotion_model(tf.constant(['that makes me feel elated']))"
   ]
  }
 ],
 "metadata": {
  "kernelspec": {
   "display_name": "Python 3",
   "language": "python",
   "name": "python3"
  },
  "language_info": {
   "codemirror_mode": {
    "name": "ipython",
    "version": 3
   },
   "file_extension": ".py",
   "mimetype": "text/x-python",
   "name": "python",
   "nbconvert_exporter": "python",
   "pygments_lexer": "ipython3",
   "version": "3.8.3"
  }
 },
 "nbformat": 4,
 "nbformat_minor": 4
}
